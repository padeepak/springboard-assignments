{
 "cells": [
  {
   "cell_type": "code",
   "execution_count": 2,
   "metadata": {},
   "outputs": [],
   "source": [
    "import sqlite3"
   ]
  },
  {
   "cell_type": "code",
   "execution_count": 3,
   "metadata": {},
   "outputs": [],
   "source": [
    "conn = sqlite3.connect(\"C:/Users/Home PC/sqlite/country-club.db\")"
   ]
  },
  {
   "cell_type": "code",
   "execution_count": 4,
   "metadata": {},
   "outputs": [],
   "source": [
    "cursor = conn.cursor()"
   ]
  },
  {
   "cell_type": "code",
   "execution_count": 6,
   "metadata": {},
   "outputs": [],
   "source": [
    "result = cursor.execute(\"select * from Facilities ;  \").fetchmany(5)\n"
   ]
  },
  {
   "cell_type": "code",
   "execution_count": 7,
   "metadata": {},
   "outputs": [
    {
     "name": "stdout",
     "output_type": "stream",
     "text": [
      "[(0, 'Tennis Court 1', 5, 25, 10000, 200), (1, 'Tennis Court 2', 5, 25, 8000, 200), (2, 'Badminton Court', 0, 15.5, 4000, 50), (3, 'Table Tennis', 0, 5, 320, 10), (4, 'Massage Room 1', 9.9, 80, 4000, 3000)]\n"
     ]
    }
   ],
   "source": [
    "print (result)"
   ]
  },
  {
   "cell_type": "code",
   "execution_count": 16,
   "metadata": {},
   "outputs": [
    {
     "name": "stdout",
     "output_type": "stream",
     "text": [
      "[('Table Tennis', 320), ('Pool Table', 400), ('Snooker Table', 450)]\n"
     ]
    }
   ],
   "source": [
    "# # assignment questions \n",
    "# Produce a list of facilities with a total revenue less than 1000.# The output of facility name and total revenue, \n",
    "#sorted by revenue. Remember # that there's a different cost for guests and members! */\n",
    "\n",
    "queryset1 = \"select name ,initialoutlay from Facilities where initialoutlay < 1000  order by initialoutlay;\"\n",
    "\n",
    "resultset1 = cursor.execute(queryset1) \n",
    "print (resultset1.fetchall()) \n",
    "    "
   ]
  },
  {
   "cell_type": "code",
   "execution_count": 13,
   "metadata": {},
   "outputs": [
    {
     "name": "stdout",
     "output_type": "stream",
     "text": [
      "[('Anna Mackenzie', 'Darren Smith'), ('Anne Baker', 'Ponder Stibbons'), ('Charles Owen', 'Darren Smith'), ('David Jones', 'Janice Joplette'), ('David Pinker', 'Jemima Farrell'), ('Douglas Jones', 'David Jones'), ('Erica Crumpet', 'Tracy Smith'), ('Florence Bader', 'Ponder Stibbons'), ('Gerald Butters', 'Darren Smith'), ('Henrietta Rumney', 'Matthew Genting'), ('Henry Worthington-Smyth', 'Tracy Smith'), ('Jack Smith', 'Darren Smith'), ('Janice Joplette', 'Darren Smith'), ('Joan Coplin', 'Timothy Baker'), ('John Hunt', 'Millicent Purview'), ('Matthew Genting', 'Gerald Butters'), ('Millicent Purview', 'Tracy Smith'), ('Nancy Dare', 'Janice Joplette'), ('Ponder Stibbons', 'Burton Tracy'), ('Ramnaresh Sarwin', 'Florence Bader'), ('Tim Boothe', 'Tim Rownam'), ('Timothy Baker', 'Jemima Farrell')]\n"
     ]
    }
   ],
   "source": [
    "#     /* Q11: Produce a report of members and who recommended them in alphabetic surname,firstname order */\n",
    "\n",
    "queryset2 = \" SELECT  m1.firstname || ' ' || m1.surname AS NAME ,m2.firstname || ' ' || m2.surname as recommender from Members m1 inner join Members m2 on m1.recommendedby = m2.memid where m1.recommendedby is not null order by Name asc;\"\n",
    "\n",
    "resultset2 = cursor.execute(queryset2) \n",
    "print (resultset2.fetchall()) "
   ]
  },
  {
   "cell_type": "code",
   "execution_count": 14,
   "metadata": {},
   "outputs": [
    {
     "name": "stdout",
     "output_type": "stream",
     "text": [
      "[('Table Tennis',), ('Massage Room 1',), ('Snooker Table',), ('Pool Table',), ('Tennis Court 1',), ('Squash Court',), ('Badminton Court',), ('Tennis Court 2',), ('Massage Room 2',)]\n"
     ]
    }
   ],
   "source": [
    "#     /* Q12: Find the facilities with their usage by member, but not guests */ \n",
    "\n",
    "queryset3 = \"SELECT distinct NAME from Facilities f inner join Bookings b on b.facid = f.facid where b.memid <> 0\"\n",
    "resultset3 = cursor.execute(queryset3) \n",
    "print (resultset3.fetchall()) \n"
   ]
  },
  {
   "cell_type": "code",
   "execution_count": 17,
   "metadata": {},
   "outputs": [
    {
     "name": "stdout",
     "output_type": "stream",
     "text": [
      "[(56, '07', 'Badminton Court'), (123, '07', 'Massage Room 1'), (12, '07', 'Massage Room 2'), (110, '07', 'Pool Table'), (75, '07', 'Snooker Table'), (75, '07', 'Squash Court'), (51, '07', 'Table Tennis'), (88, '07', 'Tennis Court 1'), (68, '07', 'Tennis Court 2'), (146, '08', 'Badminton Court'), (224, '08', 'Massage Room 1'), (40, '08', 'Massage Room 2'), (291, '08', 'Pool Table'), (159, '08', 'Snooker Table'), (170, '08', 'Squash Court'), (147, '08', 'Table Tennis'), (146, '08', 'Tennis Court 1'), (149, '08', 'Tennis Court 2'), (181, '09', 'Badminton Court'), (282, '09', 'Massage Room 1'), (59, '09', 'Massage Room 2'), (435, '09', 'Pool Table'), (210, '09', 'Snooker Table'), (195, '09', 'Squash Court'), (205, '09', 'Table Tennis'), (174, '09', 'Tennis Court 1'), (172, '09', 'Tennis Court 2')]\n"
     ]
    }
   ],
   "source": [
    "#     /* Q13: Find the facilities usage by month, but not guests */\n",
    "\n",
    "queryset4 = \"SELECT count(b.facid) as times_per_month,substr(b.starttime,6,2) as month,f.name  FROM Bookings b inner join Facilities f on b.facid = f.facid GROUP BY month ,f.name\"\n",
    "resultset4 = cursor.execute(queryset4)\n",
    "print (resultset4.fetchall())"
   ]
  },
  {
   "cell_type": "code",
   "execution_count": null,
   "metadata": {},
   "outputs": [],
   "source": []
  }
 ],
 "metadata": {
  "kernelspec": {
   "display_name": "Python 3",
   "language": "python",
   "name": "python3"
  },
  "language_info": {
   "codemirror_mode": {
    "name": "ipython",
    "version": 3
   },
   "file_extension": ".py",
   "mimetype": "text/x-python",
   "name": "python",
   "nbconvert_exporter": "python",
   "pygments_lexer": "ipython3",
   "version": "3.7.6"
  }
 },
 "nbformat": 4,
 "nbformat_minor": 4
}
